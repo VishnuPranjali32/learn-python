{
 "cells": [
  {
   "cell_type": "markdown",
   "id": "278cdff6-1259-4426-ad10-f28ba46715af",
   "metadata": {},
   "source": [
    "# Dictionaries\n",
    "- it stores data in key and value pairs\n",
    "- it is not unordered has an index value for each key and value pair"
   ]
  },
  {
   "cell_type": "code",
   "execution_count": 1,
   "id": "e9330fe2-775f-4c8a-ab66-06899574b00a",
   "metadata": {},
   "outputs": [],
   "source": [
    "d={}"
   ]
  },
  {
   "cell_type": "code",
   "execution_count": 2,
   "id": "2c2c9940-f915-4076-b000-c8e64dabf41d",
   "metadata": {},
   "outputs": [
    {
     "data": {
      "text/plain": [
       "dict"
      ]
     },
     "execution_count": 2,
     "metadata": {},
     "output_type": "execute_result"
    }
   ],
   "source": [
    "type(d)"
   ]
  },
  {
   "cell_type": "code",
   "execution_count": 3,
   "id": "b4922134-13a2-44de-8fb2-5f6b01a06e9e",
   "metadata": {},
   "outputs": [],
   "source": [
    "d={4:\"vishnu\"}"
   ]
  },
  {
   "cell_type": "code",
   "execution_count": 4,
   "id": "6ff347d1-9bbb-4a19-8bc9-38f5c0d14454",
   "metadata": {},
   "outputs": [],
   "source": [
    "d1={\"key1\":5445,\"key2\":\"vishnu\",45:[3,4,5,6]}"
   ]
  },
  {
   "cell_type": "code",
   "execution_count": 5,
   "id": "94d48d93-c667-43eb-affb-2edd6adebcf5",
   "metadata": {},
   "outputs": [
    {
     "data": {
      "text/plain": [
       "{'key1': 5445, 'key2': 'vishnu', 45: [3, 4, 5, 6]}"
      ]
     },
     "execution_count": 5,
     "metadata": {},
     "output_type": "execute_result"
    }
   ],
   "source": [
    "d1"
   ]
  },
  {
   "cell_type": "markdown",
   "id": "d82548e1-f196-41ab-bada-cffb74a38934",
   "metadata": {},
   "source": [
    "- to access a dictionary, value can be accessed using the respective keys"
   ]
  },
  {
   "cell_type": "code",
   "execution_count": 6,
   "id": "6e78256d-52a4-4e70-a78a-08b8142be07c",
   "metadata": {},
   "outputs": [
    {
     "data": {
      "text/plain": [
       "5445"
      ]
     },
     "execution_count": 6,
     "metadata": {},
     "output_type": "execute_result"
    }
   ],
   "source": [
    "d1['key1']"
   ]
  },
  {
   "cell_type": "code",
   "execution_count": 7,
   "id": "976d8397-6cbe-404e-94ff-7af1c4529aae",
   "metadata": {},
   "outputs": [
    {
     "data": {
      "text/plain": [
       "[3, 4, 5, 6]"
      ]
     },
     "execution_count": 7,
     "metadata": {},
     "output_type": "execute_result"
    }
   ],
   "source": [
    "d1[45]"
   ]
  },
  {
   "cell_type": "markdown",
   "id": "88d87ef0-21ee-48f0-ac3c-887c999fd72f",
   "metadata": {},
   "source": [
    "- a key value should either be a number or a string, but special characters cannot be used"
   ]
  },
  {
   "cell_type": "code",
   "execution_count": 8,
   "id": "a67215e5-8156-4bd1-9aaa-ef0bdcf4eafa",
   "metadata": {},
   "outputs": [],
   "source": [
    "d={\"KEY\":[3,4,5,6]}"
   ]
  },
  {
   "cell_type": "markdown",
   "id": "39e42f93-547e-4985-8808-1f3c701ef73a",
   "metadata": {},
   "source": [
    "- when a key name is repeated, it updates the before value with the value mentioned after or the latest value => key has to be unique always"
   ]
  },
  {
   "cell_type": "code",
   "execution_count": 9,
   "id": "217ab1e4-7c2a-4b7f-aac1-e07f906f54b3",
   "metadata": {},
   "outputs": [],
   "source": [
    "d1={\"key1\":[2,3,4,5],\"key2\":\"vishnu\",\"key1\":45}"
   ]
  },
  {
   "cell_type": "code",
   "execution_count": 10,
   "id": "b1353038-7628-4e3f-ab4f-899867329907",
   "metadata": {},
   "outputs": [
    {
     "data": {
      "text/plain": [
       "{'key1': 45, 'key2': 'vishnu'}"
      ]
     },
     "execution_count": 10,
     "metadata": {},
     "output_type": "execute_result"
    }
   ],
   "source": [
    "d1"
   ]
  },
  {
   "cell_type": "code",
   "execution_count": 11,
   "id": "be7a3c7c-9e16-44a9-a5ab-2e8359ab3a9c",
   "metadata": {},
   "outputs": [
    {
     "data": {
      "text/plain": [
       "45"
      ]
     },
     "execution_count": 11,
     "metadata": {},
     "output_type": "execute_result"
    }
   ],
   "source": [
    "d1['key1']"
   ]
  },
  {
   "cell_type": "code",
   "execution_count": null,
   "id": "ac4beddc-c38d-4c60-a9a8-3b47dddf7a63",
   "metadata": {},
   "outputs": [],
   "source": []
  },
  {
   "cell_type": "code",
   "execution_count": null,
   "id": "1231700a-8695-40b2-8d96-4b92087b4c16",
   "metadata": {},
   "outputs": [],
   "source": []
  }
 ],
 "metadata": {
  "kernelspec": {
   "display_name": "Python 3 (ipykernel)",
   "language": "python",
   "name": "python3"
  },
  "language_info": {
   "codemirror_mode": {
    "name": "ipython",
    "version": 3
   },
   "file_extension": ".py",
   "mimetype": "text/x-python",
   "name": "python",
   "nbconvert_exporter": "python",
   "pygments_lexer": "ipython3",
   "version": "3.12.8"
  }
 },
 "nbformat": 4,
 "nbformat_minor": 5
}
