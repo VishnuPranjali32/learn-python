{
 "cells": [
  {
   "cell_type": "markdown",
   "id": "15c010cd-54b7-4459-b340-5baccfa93155",
   "metadata": {},
   "source": [
    "# Tuples\n",
    "- used to store data\n",
    "- uses ()\n",
    "- elements can be repeated"
   ]
  },
  {
   "cell_type": "code",
   "execution_count": 1,
   "id": "0a0c2f30-f378-4bde-9372-5cae6aa1703a",
   "metadata": {},
   "outputs": [],
   "source": [
    "t1=('vishnu',345,(45+78j),546.46,True)"
   ]
  },
  {
   "cell_type": "code",
   "execution_count": 2,
   "id": "042279f5-cded-46c2-93cc-8585d20162ab",
   "metadata": {},
   "outputs": [],
   "source": [
    "t2=()"
   ]
  },
  {
   "cell_type": "code",
   "execution_count": 3,
   "id": "31b9fb88-0128-44af-9cb3-28c1fdcda6d7",
   "metadata": {},
   "outputs": [
    {
     "data": {
      "text/plain": [
       "tuple"
      ]
     },
     "execution_count": 3,
     "metadata": {},
     "output_type": "execute_result"
    }
   ],
   "source": [
    "type(t2)"
   ]
  },
  {
   "cell_type": "code",
   "execution_count": 4,
   "id": "c95f4e97-0201-4ac7-9485-f44dd33d4c5f",
   "metadata": {},
   "outputs": [
    {
     "data": {
      "text/plain": [
       "('vishnu', 345, (45+78j), 546.46, True)"
      ]
     },
     "execution_count": 4,
     "metadata": {},
     "output_type": "execute_result"
    }
   ],
   "source": [
    "t1"
   ]
  },
  {
   "cell_type": "code",
   "execution_count": 5,
   "id": "e538b7f3-9dbe-495e-8b76-6f48db489b6e",
   "metadata": {},
   "outputs": [
    {
     "data": {
      "text/plain": [
       "'vishnu'"
      ]
     },
     "execution_count": 5,
     "metadata": {},
     "output_type": "execute_result"
    }
   ],
   "source": [
    "t1[0]"
   ]
  },
  {
   "cell_type": "code",
   "execution_count": 7,
   "id": "2efaa9ac-941c-462f-b559-0a5b6a969f81",
   "metadata": {},
   "outputs": [
    {
     "data": {
      "text/plain": [
       "('vishnu', 345)"
      ]
     },
     "execution_count": 7,
     "metadata": {},
     "output_type": "execute_result"
    }
   ],
   "source": [
    "t1[0:2]"
   ]
  },
  {
   "cell_type": "code",
   "execution_count": 8,
   "id": "3208c1ae-f423-443e-bafe-12d97ae4fd1b",
   "metadata": {},
   "outputs": [
    {
     "data": {
      "text/plain": [
       "(True, 546.46, (45+78j), 345, 'vishnu')"
      ]
     },
     "execution_count": 8,
     "metadata": {},
     "output_type": "execute_result"
    }
   ],
   "source": [
    "t1[::-1]"
   ]
  },
  {
   "cell_type": "code",
   "execution_count": 9,
   "id": "c9b26c85-6b0f-4aa2-bd1f-83ed264cce1e",
   "metadata": {},
   "outputs": [
    {
     "data": {
      "text/plain": [
       "('vishnu', (45+78j), True)"
      ]
     },
     "execution_count": 9,
     "metadata": {},
     "output_type": "execute_result"
    }
   ],
   "source": [
    "t1[0::2]"
   ]
  },
  {
   "cell_type": "markdown",
   "id": "436ba692-30c7-4a86-9c98-e0d9638f8eac",
   "metadata": {},
   "source": [
    "Difference between tuples and list"
   ]
  },
  {
   "cell_type": "code",
   "execution_count": 14,
   "id": "b1ab639b-df83-47e5-9f02-292f9808119e",
   "metadata": {},
   "outputs": [],
   "source": [
    "l=['vishnu',345,(45+78j),546.46,True]"
   ]
  },
  {
   "cell_type": "code",
   "execution_count": 10,
   "id": "7e9ad2a5-a0fb-4f37-ba47-64ab84238d5f",
   "metadata": {},
   "outputs": [],
   "source": [
    "l1=[4,5,6,7]"
   ]
  },
  {
   "cell_type": "code",
   "execution_count": 15,
   "id": "95b45499-90f8-432f-9b57-f0893bdfa7cc",
   "metadata": {},
   "outputs": [],
   "source": [
    "l[0]=\"kumar\""
   ]
  },
  {
   "cell_type": "code",
   "execution_count": 16,
   "id": "b07fb499-e6ab-425c-856a-fd25e1435e50",
   "metadata": {},
   "outputs": [
    {
     "data": {
      "text/plain": [
       "['kumar', 345, (45+78j), 546.46, True]"
      ]
     },
     "execution_count": 16,
     "metadata": {},
     "output_type": "execute_result"
    }
   ],
   "source": [
    "l"
   ]
  },
  {
   "cell_type": "code",
   "execution_count": 17,
   "id": "eb758f83-648d-49bb-9cb3-405451fdb7ed",
   "metadata": {},
   "outputs": [
    {
     "data": {
      "text/plain": [
       "('vishnu', 345, (45+78j), 546.46, True)"
      ]
     },
     "execution_count": 17,
     "metadata": {},
     "output_type": "execute_result"
    }
   ],
   "source": [
    "t1"
   ]
  },
  {
   "cell_type": "code",
   "execution_count": 18,
   "id": "8762cdc6-741b-4142-b36e-2013008e4982",
   "metadata": {},
   "outputs": [
    {
     "ename": "TypeError",
     "evalue": "'tuple' object does not support item assignment",
     "output_type": "error",
     "traceback": [
      "\u001b[1;31m---------------------------------------------------------------------------\u001b[0m",
      "\u001b[1;31mTypeError\u001b[0m                                 Traceback (most recent call last)",
      "Cell \u001b[1;32mIn[18], line 1\u001b[0m\n\u001b[1;32m----> 1\u001b[0m \u001b[43mt1\u001b[49m\u001b[43m[\u001b[49m\u001b[38;5;241;43m0\u001b[39;49m\u001b[43m]\u001b[49m\u001b[38;5;241m=\u001b[39m\u001b[38;5;124m\"\u001b[39m\u001b[38;5;124mxyz\u001b[39m\u001b[38;5;124m\"\u001b[39m\n",
      "\u001b[1;31mTypeError\u001b[0m: 'tuple' object does not support item assignment"
     ]
    }
   ],
   "source": [
    "t1[0]=\"xyz\""
   ]
  },
  {
   "cell_type": "markdown",
   "id": "f0c7a2bd-8b39-4777-ac49-078d32a1b837",
   "metadata": {},
   "source": [
    "Tuple does not support changing or re assigning of elements, hence they are immutable whereas list is mutable."
   ]
  },
  {
   "cell_type": "code",
   "execution_count": 19,
   "id": "255494f5-45f3-4654-8ee7-ecb439f4f1bf",
   "metadata": {},
   "outputs": [
    {
     "data": {
      "text/plain": [
       "('vishnu', 345, (45+78j), 546.46, True)"
      ]
     },
     "execution_count": 19,
     "metadata": {},
     "output_type": "execute_result"
    }
   ],
   "source": [
    "t1"
   ]
  },
  {
   "cell_type": "code",
   "execution_count": 20,
   "id": "bbbeeff8-f40f-45a7-b135-77fce7354bb5",
   "metadata": {},
   "outputs": [],
   "source": [
    "t2=(34,65,65,5,656)"
   ]
  },
  {
   "cell_type": "code",
   "execution_count": 21,
   "id": "84a6e780-7809-4378-8a05-bb3e06a7a93f",
   "metadata": {},
   "outputs": [
    {
     "data": {
      "text/plain": [
       "('vishnu', 345, (45+78j), 546.46, True, 34, 65, 65, 5, 656)"
      ]
     },
     "execution_count": 21,
     "metadata": {},
     "output_type": "execute_result"
    }
   ],
   "source": [
    "t1+t2"
   ]
  },
  {
   "cell_type": "markdown",
   "id": "8d2bd33f-a6fa-45a0-a3b7-ab1ab1ae45a8",
   "metadata": {},
   "source": [
    "2 tuples can be merged that is a tuple can be added at the end of another tuple using + op."
   ]
  },
  {
   "cell_type": "code",
   "execution_count": 22,
   "id": "80b4ec89-fb55-4769-be89-8bfcd11c40b8",
   "metadata": {},
   "outputs": [
    {
     "data": {
      "text/plain": [
       "1"
      ]
     },
     "execution_count": 22,
     "metadata": {},
     "output_type": "execute_result"
    }
   ],
   "source": [
    "t1.count(\"vishnu\")"
   ]
  },
  {
   "cell_type": "code",
   "execution_count": 23,
   "id": "ceb7a8f7-8f64-44ed-93ae-166a9fc89cc3",
   "metadata": {},
   "outputs": [
    {
     "data": {
      "text/plain": [
       "0"
      ]
     },
     "execution_count": 23,
     "metadata": {},
     "output_type": "execute_result"
    }
   ],
   "source": [
    "t1.index(\"vishnu\")"
   ]
  },
  {
   "cell_type": "code",
   "execution_count": 24,
   "id": "f463505b-efee-4a2c-9f77-a5dfd182d422",
   "metadata": {},
   "outputs": [],
   "source": [
    "t=(45,54,54,5,(4,5,6),(\"vishnu\"))"
   ]
  },
  {
   "cell_type": "code",
   "execution_count": 25,
   "id": "18ac497d-5ee6-4824-9bf2-7da4767052ec",
   "metadata": {},
   "outputs": [
    {
     "data": {
      "text/plain": [
       "(45, 54, 54, 5, (4, 5, 6), 'vishnu')"
      ]
     },
     "execution_count": 25,
     "metadata": {},
     "output_type": "execute_result"
    }
   ],
   "source": [
    "t"
   ]
  },
  {
   "cell_type": "markdown",
   "id": "078cbdf4-6986-4a5b-beb9-fd8a1d4f2c98",
   "metadata": {},
   "source": [
    "Tuples can be stored inside a tuple, like a nested tuple, similarly lists can also be stored inside a tuple"
   ]
  },
  {
   "cell_type": "code",
   "execution_count": 26,
   "id": "e6903767-cb00-4f17-a4f1-42b308597ceb",
   "metadata": {},
   "outputs": [],
   "source": [
    "t1=([3,4,54,6],(\"sd\",435,56),\"hfhc\")"
   ]
  },
  {
   "cell_type": "code",
   "execution_count": 27,
   "id": "d6fc887c-6771-4bf5-aa9e-099295226098",
   "metadata": {},
   "outputs": [
    {
     "data": {
      "text/plain": [
       "([3, 4, 54, 6], ('sd', 435, 56), 'hfhc')"
      ]
     },
     "execution_count": 27,
     "metadata": {},
     "output_type": "execute_result"
    }
   ],
   "source": [
    "t1"
   ]
  },
  {
   "cell_type": "code",
   "execution_count": 28,
   "id": "383845cb-c4eb-4d71-9f0d-2f65a7703c09",
   "metadata": {},
   "outputs": [],
   "source": [
    "t1[0][2]=\"vishnu\""
   ]
  },
  {
   "cell_type": "code",
   "execution_count": 29,
   "id": "2fa5b51f-7da8-4bc1-a113-9bbce57dec2e",
   "metadata": {},
   "outputs": [
    {
     "data": {
      "text/plain": [
       "([3, 4, 'vishnu', 6], ('sd', 435, 56), 'hfhc')"
      ]
     },
     "execution_count": 29,
     "metadata": {},
     "output_type": "execute_result"
    }
   ],
   "source": [
    "t1"
   ]
  },
  {
   "cell_type": "code",
   "execution_count": 32,
   "id": "5e9bd32b-f926-478c-ac23-0f689c68e1b5",
   "metadata": {},
   "outputs": [],
   "source": [
    "t1=(53,54,45,4,5,4,54)"
   ]
  },
  {
   "cell_type": "code",
   "execution_count": 33,
   "id": "c51455d6-b2a8-43f2-8f59-c3c5ad35ac18",
   "metadata": {},
   "outputs": [],
   "source": [
    "l=list(t1)"
   ]
  },
  {
   "cell_type": "code",
   "execution_count": 34,
   "id": "1b6a1dd2-f6a0-4052-807a-07bb96e26acd",
   "metadata": {},
   "outputs": [
    {
     "data": {
      "text/plain": [
       "[53, 54, 45, 4, 5, 4, 54]"
      ]
     },
     "execution_count": 34,
     "metadata": {},
     "output_type": "execute_result"
    }
   ],
   "source": [
    "l"
   ]
  },
  {
   "cell_type": "code",
   "execution_count": 35,
   "id": "10f35853-008e-48bd-aa5c-8a0772fc1db4",
   "metadata": {},
   "outputs": [
    {
     "data": {
      "text/plain": [
       "(53, 54, 45, 4, 5, 4, 54)"
      ]
     },
     "execution_count": 35,
     "metadata": {},
     "output_type": "execute_result"
    }
   ],
   "source": [
    "tuple(l)"
   ]
  },
  {
   "cell_type": "markdown",
   "id": "64dcef49-9046-45ec-a873-310300d04914",
   "metadata": {},
   "source": [
    "# Sets:\n",
    "- data is stored inside {} (curly braces)\n",
    "- does not allow duplicate elements\n",
    "- elements cannot be accesed using indexes as they do not have an order, or do not have any particular index for each element.\n"
   ]
  },
  {
   "cell_type": "code",
   "execution_count": 36,
   "id": "23a0ad5f-542d-467f-8f3f-ac2f59a75587",
   "metadata": {},
   "outputs": [],
   "source": [
    "l=[1,2,3,4,5,6,76,5,5,5,5,5,5,5,5,2,3,4,5,6,1,2,3]"
   ]
  },
  {
   "cell_type": "code",
   "execution_count": 37,
   "id": "494779aa-5de0-4ad6-80c3-5ee645ebb30d",
   "metadata": {},
   "outputs": [
    {
     "data": {
      "text/plain": [
       "{1, 2, 3, 4, 5, 6, 76}"
      ]
     },
     "execution_count": 37,
     "metadata": {},
     "output_type": "execute_result"
    }
   ],
   "source": [
    "set(l)"
   ]
  },
  {
   "cell_type": "code",
   "execution_count": 38,
   "id": "a56134b4-c6f1-4efc-b005-e8885f1552b4",
   "metadata": {},
   "outputs": [],
   "source": [
    "s1={2,3,4}"
   ]
  },
  {
   "cell_type": "code",
   "execution_count": 39,
   "id": "3f34b1c5-1b5d-475e-acaf-d2941de45829",
   "metadata": {},
   "outputs": [
    {
     "data": {
      "text/plain": [
       "set"
      ]
     },
     "execution_count": 39,
     "metadata": {},
     "output_type": "execute_result"
    }
   ],
   "source": [
    "type(s1)"
   ]
  },
  {
   "cell_type": "code",
   "execution_count": 40,
   "id": "a128b3d4-065c-411d-83a3-ea1e41e48633",
   "metadata": {},
   "outputs": [],
   "source": [
    "s={}"
   ]
  },
  {
   "cell_type": "code",
   "execution_count": 41,
   "id": "4c18f330-7b87-45bf-b0aa-e018bff8da47",
   "metadata": {},
   "outputs": [
    {
     "data": {
      "text/plain": [
       "dict"
      ]
     },
     "execution_count": 41,
     "metadata": {},
     "output_type": "execute_result"
    }
   ],
   "source": [
    "type(s)"
   ]
  },
  {
   "cell_type": "code",
   "execution_count": 44,
   "id": "c5e8b5ed-569f-46d9-86aa-e1fdee4502e6",
   "metadata": {},
   "outputs": [],
   "source": [
    "s2={1,1,1,1,1,1,2,3,4,54,4,3,3,2,54}"
   ]
  },
  {
   "cell_type": "code",
   "execution_count": 45,
   "id": "c93ec6d0-c453-4128-9ec5-ea12ab354d09",
   "metadata": {},
   "outputs": [
    {
     "data": {
      "text/plain": [
       "{1, 2, 3, 4, 54}"
      ]
     },
     "execution_count": 45,
     "metadata": {},
     "output_type": "execute_result"
    }
   ],
   "source": [
    "s2"
   ]
  },
  {
   "cell_type": "code",
   "execution_count": 46,
   "id": "44d4bfb9-aed5-4129-994f-56eb64e9d80f",
   "metadata": {},
   "outputs": [
    {
     "ename": "TypeError",
     "evalue": "'set' object is not subscriptable",
     "output_type": "error",
     "traceback": [
      "\u001b[1;31m---------------------------------------------------------------------------\u001b[0m",
      "\u001b[1;31mTypeError\u001b[0m                                 Traceback (most recent call last)",
      "Cell \u001b[1;32mIn[46], line 1\u001b[0m\n\u001b[1;32m----> 1\u001b[0m \u001b[43ms2\u001b[49m\u001b[43m[\u001b[49m\u001b[38;5;241;43m0\u001b[39;49m\u001b[43m]\u001b[49m\n",
      "\u001b[1;31mTypeError\u001b[0m: 'set' object is not subscriptable"
     ]
    }
   ],
   "source": [
    "s2[0]"
   ]
  },
  {
   "cell_type": "code",
   "execution_count": 47,
   "id": "70597779-a103-4b26-b033-935ec9a3ebb2",
   "metadata": {},
   "outputs": [],
   "source": [
    "s2.add(89777)"
   ]
  },
  {
   "cell_type": "code",
   "execution_count": 48,
   "id": "8303c3be-8151-4128-aa0b-5a68e4d52839",
   "metadata": {},
   "outputs": [
    {
     "data": {
      "text/plain": [
       "{1, 2, 3, 4, 54, 89777}"
      ]
     },
     "execution_count": 48,
     "metadata": {},
     "output_type": "execute_result"
    }
   ],
   "source": [
    "s2"
   ]
  },
  {
   "cell_type": "code",
   "execution_count": 49,
   "id": "4defeaa6-132e-4aa2-9e0b-f93b0deea4ac",
   "metadata": {},
   "outputs": [],
   "source": [
    "s2.add(\"vishnu\")"
   ]
  },
  {
   "cell_type": "code",
   "execution_count": 50,
   "id": "59cc0348-1595-413d-97ec-165e6e870d34",
   "metadata": {},
   "outputs": [
    {
     "data": {
      "text/plain": [
       "{1, 2, 3, 4, 54, 89777, 'vishnu'}"
      ]
     },
     "execution_count": 50,
     "metadata": {},
     "output_type": "execute_result"
    }
   ],
   "source": [
    "s2"
   ]
  },
  {
   "cell_type": "code",
   "execution_count": 51,
   "id": "4c674ef3-41c6-4be9-8208-220b29d89aab",
   "metadata": {},
   "outputs": [
    {
     "ename": "TypeError",
     "evalue": "unhashable type: 'list'",
     "output_type": "error",
     "traceback": [
      "\u001b[1;31m---------------------------------------------------------------------------\u001b[0m",
      "\u001b[1;31mTypeError\u001b[0m                                 Traceback (most recent call last)",
      "Cell \u001b[1;32mIn[51], line 1\u001b[0m\n\u001b[1;32m----> 1\u001b[0m \u001b[43ms2\u001b[49m\u001b[38;5;241;43m.\u001b[39;49m\u001b[43madd\u001b[49m\u001b[43m(\u001b[49m\u001b[43m[\u001b[49m\u001b[38;5;241;43m3\u001b[39;49m\u001b[43m,\u001b[49m\u001b[38;5;241;43m4\u001b[39;49m\u001b[43m,\u001b[49m\u001b[38;5;241;43m5\u001b[39;49m\u001b[43m,\u001b[49m\u001b[38;5;241;43m6\u001b[39;49m\u001b[43m]\u001b[49m\u001b[43m)\u001b[49m\n",
      "\u001b[1;31mTypeError\u001b[0m: unhashable type: 'list'"
     ]
    }
   ],
   "source": [
    "s2.add([3,4,5,6])"
   ]
  },
  {
   "cell_type": "code",
   "execution_count": 52,
   "id": "66a7fd5b-01b0-4621-885b-ee18f964158d",
   "metadata": {},
   "outputs": [
    {
     "ename": "TypeError",
     "evalue": "unhashable type: 'list'",
     "output_type": "error",
     "traceback": [
      "\u001b[1;31m---------------------------------------------------------------------------\u001b[0m",
      "\u001b[1;31mTypeError\u001b[0m                                 Traceback (most recent call last)",
      "Cell \u001b[1;32mIn[52], line 1\u001b[0m\n\u001b[1;32m----> 1\u001b[0m {[\u001b[38;5;241m3\u001b[39m,\u001b[38;5;241m4\u001b[39m,\u001b[38;5;241m5\u001b[39m,\u001b[38;5;241m6\u001b[39m],\u001b[38;5;241m3\u001b[39m,\u001b[38;5;241m4\u001b[39m,\u001b[38;5;241m5\u001b[39m,\u001b[38;5;241m4\u001b[39m,\u001b[38;5;241m5\u001b[39m}\n",
      "\u001b[1;31mTypeError\u001b[0m: unhashable type: 'list'"
     ]
    }
   ],
   "source": [
    "{[3,4,5,6],3,4,5,4,5}"
   ]
  },
  {
   "cell_type": "markdown",
   "id": "032014b1-952f-460d-a419-2dfa40ff8ad0",
   "metadata": {},
   "source": [
    "- cannot add list into a set\n",
    "  here, a set does not allow any type of data which is mutable, like a list or a hence list cannot be added or cannot be present in a set.\n",
    "  "
   ]
  },
  {
   "cell_type": "markdown",
   "id": "d611056c-11d8-4488-b367-9c73bf30aac6",
   "metadata": {},
   "source": [
    "- Difference between remove and discard"
   ]
  },
  {
   "cell_type": "code",
   "execution_count": 53,
   "id": "e0a2e6d6-6943-410b-aa72-c996d2f69a5e",
   "metadata": {},
   "outputs": [],
   "source": [
    "s={(3,4,5,6),3,4,5}"
   ]
  },
  {
   "cell_type": "code",
   "execution_count": 54,
   "id": "6bb01c56-966a-458c-bafa-314a5ad078b2",
   "metadata": {},
   "outputs": [
    {
     "data": {
      "text/plain": [
       "{(3, 4, 5, 6), 3, 4, 5}"
      ]
     },
     "execution_count": 54,
     "metadata": {},
     "output_type": "execute_result"
    }
   ],
   "source": [
    "s"
   ]
  },
  {
   "cell_type": "code",
   "execution_count": 55,
   "id": "d1b11e5e-44fc-45d5-8471-01a8687378db",
   "metadata": {},
   "outputs": [],
   "source": [
    "s.remove(4)"
   ]
  },
  {
   "cell_type": "code",
   "execution_count": 56,
   "id": "dd4db70a-f3d8-4cf5-8982-5cc728321898",
   "metadata": {},
   "outputs": [
    {
     "data": {
      "text/plain": [
       "{(3, 4, 5, 6), 3, 5}"
      ]
     },
     "execution_count": 56,
     "metadata": {},
     "output_type": "execute_result"
    }
   ],
   "source": [
    "s"
   ]
  },
  {
   "cell_type": "code",
   "execution_count": 57,
   "id": "75c5559c-a07e-411b-a860-b0224699629e",
   "metadata": {},
   "outputs": [],
   "source": [
    "s.discard(5)"
   ]
  },
  {
   "cell_type": "code",
   "execution_count": 58,
   "id": "8833f7a0-a7b9-4225-88c3-60e2b685b7e0",
   "metadata": {},
   "outputs": [
    {
     "data": {
      "text/plain": [
       "{(3, 4, 5, 6), 3}"
      ]
     },
     "execution_count": 58,
     "metadata": {},
     "output_type": "execute_result"
    }
   ],
   "source": [
    "s"
   ]
  },
  {
   "cell_type": "code",
   "execution_count": 59,
   "id": "a0db94d8-2dd6-410e-a64b-e6d40f4abbfc",
   "metadata": {},
   "outputs": [
    {
     "ename": "KeyError",
     "evalue": "45",
     "output_type": "error",
     "traceback": [
      "\u001b[1;31m---------------------------------------------------------------------------\u001b[0m",
      "\u001b[1;31mKeyError\u001b[0m                                  Traceback (most recent call last)",
      "Cell \u001b[1;32mIn[59], line 1\u001b[0m\n\u001b[1;32m----> 1\u001b[0m \u001b[43ms\u001b[49m\u001b[38;5;241;43m.\u001b[39;49m\u001b[43mremove\u001b[49m\u001b[43m(\u001b[49m\u001b[38;5;241;43m45\u001b[39;49m\u001b[43m)\u001b[49m\n",
      "\u001b[1;31mKeyError\u001b[0m: 45"
     ]
    }
   ],
   "source": [
    "s.remove(45)"
   ]
  },
  {
   "cell_type": "code",
   "execution_count": 60,
   "id": "53bafd89-66ff-4e1d-b3e7-c144a654afc4",
   "metadata": {},
   "outputs": [],
   "source": [
    "s.discard(45)"
   ]
  },
  {
   "cell_type": "code",
   "execution_count": 62,
   "id": "29093814-4224-4409-b043-f454f452890e",
   "metadata": {},
   "outputs": [
    {
     "data": {
      "text/plain": [
       "{'Sudh', 'sudh'}"
      ]
     },
     "execution_count": 62,
     "metadata": {},
     "output_type": "execute_result"
    }
   ],
   "source": [
    "{\"sudh\",\"Sudh\"}"
   ]
  },
  {
   "cell_type": "markdown",
   "id": "0eaa9555-696c-4e53-a91d-70812bab83c7",
   "metadata": {},
   "source": [
    "- sets are case sensitive"
   ]
  },
  {
   "cell_type": "code",
   "execution_count": 3,
   "id": "6b28f2a6-9900-4bad-a07e-b69898c56632",
   "metadata": {},
   "outputs": [],
   "source": [
    "s={4,5,6,7,78,3,4,5,3,4,5,\"sudh\",\"sudh\"}"
   ]
  },
  {
   "cell_type": "code",
   "execution_count": 2,
   "id": "bb4c28db-3d65-4a48-8587-75e0fc98f5df",
   "metadata": {},
   "outputs": [
    {
     "data": {
      "text/plain": [
       "{3, 4, 5, 6, 7, 78, 'sudh'}"
      ]
     },
     "execution_count": 2,
     "metadata": {},
     "output_type": "execute_result"
    }
   ],
   "source": [
    "s"
   ]
  },
  {
   "cell_type": "code",
   "execution_count": 3,
   "id": "67721956-fed0-4a43-b5d0-b6b8c8f5c105",
   "metadata": {},
   "outputs": [],
   "source": [
    "l=[3,4,5,6]"
   ]
  },
  {
   "cell_type": "code",
   "execution_count": 4,
   "id": "502ca953-f3f6-464a-a017-d83001fc96c7",
   "metadata": {},
   "outputs": [
    {
     "data": {
      "text/plain": [
       "{3, 4, 5, 6}"
      ]
     },
     "execution_count": 4,
     "metadata": {},
     "output_type": "execute_result"
    }
   ],
   "source": [
    "set(l)"
   ]
  },
  {
   "cell_type": "code",
   "execution_count": 4,
   "id": "e284ee24-62f5-4a9b-8f7d-61ad9588a037",
   "metadata": {},
   "outputs": [
    {
     "data": {
      "text/plain": [
       "[3, 4, 5, 6, 7, 'sudh', 78]"
      ]
     },
     "execution_count": 4,
     "metadata": {},
     "output_type": "execute_result"
    }
   ],
   "source": [
    "list(s)"
   ]
  },
  {
   "cell_type": "code",
   "execution_count": null,
   "id": "fc4c4f2b-b142-4748-9a6d-732d16979c0a",
   "metadata": {},
   "outputs": [],
   "source": []
  }
 ],
 "metadata": {
  "kernelspec": {
   "display_name": "Python 3 (ipykernel)",
   "language": "python",
   "name": "python3"
  },
  "language_info": {
   "codemirror_mode": {
    "name": "ipython",
    "version": 3
   },
   "file_extension": ".py",
   "mimetype": "text/x-python",
   "name": "python",
   "nbconvert_exporter": "python",
   "pygments_lexer": "ipython3",
   "version": "3.12.8"
  }
 },
 "nbformat": 4,
 "nbformat_minor": 5
}
