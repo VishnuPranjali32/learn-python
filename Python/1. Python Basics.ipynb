{
 "cells": [
  {
   "cell_type": "code",
   "execution_count": null,
   "metadata": {
    "colab": {
     "base_uri": "https://localhost:8080/",
     "height": 35
    },
    "id": "IoFYVv76h-w4",
    "outputId": "33c4d00b-b9e7-47c4-cc0a-6b2ecc5358d5"
   },
   "outputs": [
    {
     "data": {
      "application/vnd.google.colaboratory.intrinsic+json": {
       "type": "string"
      },
      "text/plain": [
       "' Hello \\nThis\\nIs \\nGoogle\\nColab'"
      ]
     },
     "execution_count": 1,
     "metadata": {},
     "output_type": "execute_result"
    }
   ],
   "source": [
    "# hello"
   ]
  },
  {
   "cell_type": "code",
   "execution_count": null,
   "metadata": {
    "colab": {
     "base_uri": "https://localhost:8080/"
    },
    "id": "zGcxfrWgctRa",
    "outputId": "36ca6a98-cdf2-44a8-85d4-9abb8ccf457c"
   },
   "outputs": [
    {
     "name": "stdout",
     "output_type": "stream",
     "text": [
      "this is google colab\n"
     ]
    }
   ],
   "source": [
    "print(\"this is google colab\")"
   ]
  },
  {
   "cell_type": "code",
   "execution_count": null,
   "metadata": {
    "colab": {
     "base_uri": "https://localhost:8080/",
     "height": 35
    },
    "id": "xnECvFWOiUig",
    "outputId": "bd7b8be1-a1ef-4bfd-c277-d4abcceee851"
   },
   "outputs": [
    {
     "data": {
      "application/vnd.google.colaboratory.intrinsic+json": {
       "type": "string"
      },
      "text/plain": [
       "' Hello \\nThis\\nIs \\nGoogle\\nColab'"
      ]
     },
     "execution_count": 3,
     "metadata": {},
     "output_type": "execute_result"
    }
   ],
   "source": [
    "\"\"\" Hello\n",
    "This\n",
    "Is\n",
    "Google\n",
    "Colab\"\"\""
   ]
  },
  {
   "cell_type": "code",
   "execution_count": null,
   "metadata": {
    "colab": {
     "base_uri": "https://localhost:8080/",
     "height": 53
    },
    "id": "vBkyWoTMiWOf",
    "outputId": "3ecb3370-0a55-4118-afee-60822c749936"
   },
   "outputs": [
    {
     "name": "stdout",
     "output_type": "stream",
     "text": [
      "vishnu\n"
     ]
    },
    {
     "data": {
      "application/vnd.google.colaboratory.intrinsic+json": {
       "type": "string"
      },
      "text/plain": [
       "'my \\nname \\nis vishnu'"
      ]
     },
     "execution_count": 4,
     "metadata": {},
     "output_type": "execute_result"
    }
   ],
   "source": [
    "print(\"vishnu\")\n",
    "'''my\n",
    "name\n",
    "is vishnu'''"
   ]
  },
  {
   "cell_type": "code",
   "execution_count": null,
   "metadata": {
    "colab": {
     "base_uri": "https://localhost:8080/"
    },
    "id": "4OzguNDwk1rS",
    "outputId": "a7d897bf-9ba2-4ccf-9238-e766b736c1a2"
   },
   "outputs": [
    {
     "data": {
      "text/plain": [
       "10"
      ]
     },
     "execution_count": 10,
     "metadata": {},
     "output_type": "execute_result"
    }
   ],
   "source": [
    "a=10\n",
    "a"
   ]
  },
  {
   "cell_type": "code",
   "execution_count": null,
   "metadata": {
    "colab": {
     "base_uri": "https://localhost:8080/"
    },
    "id": "PhmumNqIk3WE",
    "outputId": "37c0215e-7bc8-44bb-8bb9-982705a8ca0f"
   },
   "outputs": [
    {
     "data": {
      "text/plain": [
       "int"
      ]
     },
     "execution_count": 9,
     "metadata": {},
     "output_type": "execute_result"
    }
   ],
   "source": [
    "type(a)"
   ]
  },
  {
   "cell_type": "code",
   "execution_count": null,
   "metadata": {
    "colab": {
     "base_uri": "https://localhost:8080/",
     "height": 35
    },
    "id": "HyZQk_oYk6l5",
    "outputId": "c0b51aad-5dad-4da5-be30-7c4855e91609"
   },
   "outputs": [
    {
     "data": {
      "application/vnd.google.colaboratory.intrinsic+json": {
       "type": "string"
      },
      "text/plain": [
       "'sudh'"
      ]
     },
     "execution_count": 13,
     "metadata": {},
     "output_type": "execute_result"
    }
   ],
   "source": [
    "b='sudh'\n",
    "b"
   ]
  },
  {
   "cell_type": "code",
   "execution_count": null,
   "metadata": {
    "colab": {
     "base_uri": "https://localhost:8080/"
    },
    "id": "zM_MhH7UlOYN",
    "outputId": "c68b56a7-196a-413d-f1bf-6c05985802ab"
   },
   "outputs": [
    {
     "name": "stdout",
     "output_type": "stream",
     "text": [
      "<class 'str'>\n",
      "sudh 10\n",
      "10 sudh jhfuyfe\n"
     ]
    }
   ],
   "source": [
    "print(type(b))\n",
    "print(b,a)\n",
    "print(a,b,'jhfuyfe')"
   ]
  },
  {
   "cell_type": "code",
   "execution_count": null,
   "metadata": {
    "colab": {
     "base_uri": "https://localhost:8080/"
    },
    "id": "J7mca4sKlQQM",
    "outputId": "3e7abea0-107a-4177-9443-041c0326c5fb"
   },
   "outputs": [
    {
     "data": {
      "text/plain": [
       "('sudh', 10)"
      ]
     },
     "execution_count": 19,
     "metadata": {},
     "output_type": "execute_result"
    }
   ],
   "source": [
    "b,a"
   ]
  },
  {
   "cell_type": "code",
   "execution_count": null,
   "metadata": {
    "colab": {
     "base_uri": "https://localhost:8080/"
    },
    "id": "x4Y0uFepmon4",
    "outputId": "a98ce327-93df-47fa-8a08-d933d71b2374"
   },
   "outputs": [
    {
     "data": {
      "text/plain": [
       "('sudh', 'hello world', 45)"
      ]
     },
     "execution_count": 21,
     "metadata": {},
     "output_type": "execute_result"
    }
   ],
   "source": [
    "a,b,s=45,'sudh','hello world'\n",
    "b,s,a"
   ]
  },
  {
   "cell_type": "code",
   "execution_count": null,
   "metadata": {
    "colab": {
     "base_uri": "https://localhost:8080/"
    },
    "id": "DMX3kLeemzeX",
    "outputId": "6480f14a-3ac3-4843-cc3d-75a4920dcacb"
   },
   "outputs": [
    {
     "name": "stdout",
     "output_type": "stream",
     "text": [
      "sudh hello world 45\n"
     ]
    }
   ],
   "source": [
    "print(b,s,a)"
   ]
  },
  {
   "cell_type": "code",
   "execution_count": null,
   "metadata": {
    "id": "1dzHzKREmybn"
   },
   "outputs": [],
   "source": [
    "b = True\n",
    "c = False"
   ]
  },
  {
   "cell_type": "code",
   "execution_count": null,
   "metadata": {
    "colab": {
     "base_uri": "https://localhost:8080/"
    },
    "id": "rUZ2U1X5qZL_",
    "outputId": "c1a23378-20c1-4e0f-f25f-20f9bfbe09cb"
   },
   "outputs": [
    {
     "data": {
      "text/plain": [
       "bool"
      ]
     },
     "execution_count": 27,
     "metadata": {},
     "output_type": "execute_result"
    }
   ],
   "source": [
    "type(b)\n",
    "type(c)"
   ]
  },
  {
   "cell_type": "code",
   "execution_count": null,
   "metadata": {
    "colab": {
     "base_uri": "https://localhost:8080/"
    },
    "id": "V3U_4CQSq1q_",
    "outputId": "5a666bfc-efb5-44da-e5f8-14dfaa54c6c9"
   },
   "outputs": [
    {
     "name": "stdout",
     "output_type": "stream",
     "text": [
      "4\n",
      "0\n"
     ]
    }
   ],
   "source": [
    "print(True + True + True+ False + True)\n",
    "print(False-True+True)"
   ]
  },
  {
   "cell_type": "code",
   "execution_count": null,
   "metadata": {
    "colab": {
     "base_uri": "https://localhost:8080/",
     "height": 141
    },
    "id": "orEfkyTurHZR",
    "outputId": "81b833e8-edc2-4ee9-a7dc-83333e44647c"
   },
   "outputs": [
    {
     "ename": "ZeroDivisionError",
     "evalue": "division by zero",
     "output_type": "error",
     "traceback": [
      "\u001b[0;31m---------------------------------------------------------------------------\u001b[0m",
      "\u001b[0;31mZeroDivisionError\u001b[0m                         Traceback (most recent call last)",
      "\u001b[0;32m<ipython-input-36-f64d1295bbce>\u001b[0m in \u001b[0;36m<cell line: 1>\u001b[0;34m()\u001b[0m\n\u001b[0;32m----> 1\u001b[0;31m \u001b[0;32mTrue\u001b[0m\u001b[0;34m/\u001b[0m\u001b[0;32mFalse\u001b[0m\u001b[0;34m\u001b[0m\u001b[0;34m\u001b[0m\u001b[0m\n\u001b[0m",
      "\u001b[0;31mZeroDivisionError\u001b[0m: division by zero"
     ]
    }
   ],
   "source": [
    "True/False"
   ]
  },
  {
   "cell_type": "code",
   "execution_count": null,
   "metadata": {
    "colab": {
     "base_uri": "https://localhost:8080/"
    },
    "id": "cwZsxyqCtSNu",
    "outputId": "0b3a3eaa-0645-4db8-a1ac-b2c5084c1c1c"
   },
   "outputs": [
    {
     "data": {
      "text/plain": [
       "complex"
      ]
     },
     "execution_count": 41,
     "metadata": {},
     "output_type": "execute_result"
    }
   ],
   "source": [
    "n=45+6j\n",
    "m= 56+8j\n",
    "type(n)"
   ]
  },
  {
   "cell_type": "code",
   "execution_count": null,
   "metadata": {
    "colab": {
     "base_uri": "https://localhost:8080/"
    },
    "id": "90ccjAgOuNQb",
    "outputId": "df0746b4-458a-4628-8049-4d7eff1e53fd"
   },
   "outputs": [
    {
     "data": {
      "text/plain": [
       "(56+8j)"
      ]
     },
     "execution_count": 42,
     "metadata": {},
     "output_type": "execute_result"
    }
   ],
   "source": [
    "n\n",
    "m"
   ]
  },
  {
   "cell_type": "code",
   "execution_count": null,
   "metadata": {
    "colab": {
     "base_uri": "https://localhost:8080/"
    },
    "id": "vs38xJ2OuOVK",
    "outputId": "e73fbdf4-3c05-4159-e796-a2e20d6851d2"
   },
   "outputs": [
    {
     "name": "stdout",
     "output_type": "stream",
     "text": [
      "45.0\n",
      "6.0\n",
      "56.0\n",
      "8.0\n"
     ]
    }
   ],
   "source": [
    "print(n.real)\n",
    "print(n.imag)\n",
    "print(m.real)\n",
    "print(m.imag)"
   ]
  },
  {
   "cell_type": "code",
   "execution_count": null,
   "metadata": {
    "colab": {
     "base_uri": "https://localhost:8080/"
    },
    "id": "MUcZJhLauRNR",
    "outputId": "be360e5d-5e17-43ff-c52e-63ad52156ec2"
   },
   "outputs": [
    {
     "data": {
      "text/plain": [
       "(2472+696j)"
      ]
     },
     "execution_count": 43,
     "metadata": {},
     "output_type": "execute_result"
    }
   ],
   "source": [
    "n*m"
   ]
  },
  {
   "cell_type": "code",
   "execution_count": null,
   "metadata": {
    "colab": {
     "base_uri": "https://localhost:8080/"
    },
    "id": "e7iMeRkCufkF",
    "outputId": "93ba89f6-fd67-4c10-a76f-9d02c858e9f1"
   },
   "outputs": [
    {
     "data": {
      "text/plain": [
       "str"
      ]
     },
     "execution_count": 45,
     "metadata": {},
     "output_type": "execute_result"
    }
   ],
   "source": [
    "b='sdf'\n",
    "type(b)"
   ]
  },
  {
   "cell_type": "code",
   "execution_count": null,
   "metadata": {
    "colab": {
     "base_uri": "https://localhost:8080/",
     "height": 35
    },
    "id": "0FNhQCnBuw6k",
    "outputId": "083ae3ab-9ebc-474c-c71e-ec742a768f8b"
   },
   "outputs": [
    {
     "data": {
      "application/vnd.google.colaboratory.intrinsic+json": {
       "type": "string"
      },
      "text/plain": [
       "'1sudh'"
      ]
     },
     "execution_count": 48,
     "metadata": {},
     "output_type": "execute_result"
    }
   ],
   "source": [
    "# strong typing\n",
    "'1'+'sudh'"
   ]
  },
  {
   "cell_type": "code",
   "execution_count": null,
   "metadata": {
    "colab": {
     "base_uri": "https://localhost:8080/"
    },
    "id": "L9e0gy2muy2A",
    "outputId": "cc7d45ee-05fb-4aa9-851c-dddf2618630f"
   },
   "outputs": [
    {
     "name": "stdout",
     "output_type": "stream",
     "text": [
      "sudhsudhsudh\n",
      "sudhsudhsudh\n"
     ]
    }
   ],
   "source": [
    "# concantenation\n",
    "print('sudh'*3)\n",
    "print('sudh'+'sudh'+'sudh')"
   ]
  },
  {
   "cell_type": "code",
   "execution_count": null,
   "metadata": {
    "colab": {
     "base_uri": "https://localhost:8080/",
     "height": 141
    },
    "id": "OQEaSJstvioY",
    "outputId": "7055079f-1dc3-46ef-dd14-f82f016304e5"
   },
   "outputs": [
    {
     "ename": "TypeError",
     "evalue": "can't multiply sequence by non-int of type 'str'",
     "output_type": "error",
     "traceback": [
      "\u001b[0;31m---------------------------------------------------------------------------\u001b[0m",
      "\u001b[0;31mTypeError\u001b[0m                                 Traceback (most recent call last)",
      "\u001b[0;32m<ipython-input-52-7c64c1da868c>\u001b[0m in \u001b[0;36m<cell line: 1>\u001b[0;34m()\u001b[0m\n\u001b[0;32m----> 1\u001b[0;31m \u001b[0;34m'sudh'\u001b[0m\u001b[0;34m*\u001b[0m\u001b[0;34m'sudh'\u001b[0m\u001b[0;34m\u001b[0m\u001b[0;34m\u001b[0m\u001b[0m\n\u001b[0m",
      "\u001b[0;31mTypeError\u001b[0m: can't multiply sequence by non-int of type 'str'"
     ]
    }
   ],
   "source": [
    "'sudh'*'sudh'"
   ]
  },
  {
   "cell_type": "code",
   "execution_count": null,
   "metadata": {
    "colab": {
     "base_uri": "https://localhost:8080/"
    },
    "id": "WkLRT1Qkv0h_",
    "outputId": "2bfb7a67-29d3-4652-d168-b5c859570437"
   },
   "outputs": [
    {
     "name": "stdout",
     "output_type": "stream",
     "text": [
      "enter a integer 242344232\n"
     ]
    },
    {
     "data": {
      "text/plain": [
       "str"
      ]
     },
     "execution_count": 53,
     "metadata": {},
     "output_type": "execute_result"
    }
   ],
   "source": [
    "a=input(\"enter a integer\")"
   ]
  },
  {
   "cell_type": "code",
   "execution_count": null,
   "metadata": {
    "colab": {
     "base_uri": "https://localhost:8080/"
    },
    "id": "VhcnZ4ftwqiW",
    "outputId": "65408265-115a-4ae9-8786-dec1b437d72b"
   },
   "outputs": [
    {
     "data": {
      "text/plain": [
       "str"
      ]
     },
     "execution_count": 54,
     "metadata": {},
     "output_type": "execute_result"
    }
   ],
   "source": [
    "type(a)"
   ]
  },
  {
   "cell_type": "code",
   "execution_count": null,
   "metadata": {
    "colab": {
     "base_uri": "https://localhost:8080/",
     "height": 91
    },
    "id": "BpLEUL8jwwog",
    "outputId": "5ce6a3fc-b5be-4f2c-b133-21b2a36858c1"
   },
   "outputs": [
    {
     "name": "stdout",
     "output_type": "stream",
     "text": [
      "enter a integer2\n",
      "enter a integer3\n",
      "enter a integer4\n"
     ]
    },
    {
     "data": {
      "application/vnd.google.colaboratory.intrinsic+json": {
       "type": "string"
      },
      "text/plain": [
       "'(57.25+2j)vishnu'"
      ]
     },
     "execution_count": 1,
     "metadata": {},
     "output_type": "execute_result"
    }
   ],
   "source": [
    "a=int(input(\"enter a integer\"))\n",
    "b=int(input(\"enter a integer\"))\n",
    "c=int(input(\"enter a integer\"))\n",
    "O = (a+b)/c\n",
    "O1 = O+(56+2j)\n",
    "str(O1)+ 'vishnu'#type conversion"
   ]
  },
  {
   "cell_type": "code",
   "execution_count": null,
   "metadata": {
    "colab": {
     "base_uri": "https://localhost:8080/"
    },
    "id": "MwD7Ap64zCpt",
    "outputId": "f6d57dd2-84e3-4485-a76d-b657ac97ffbd"
   },
   "outputs": [
    {
     "data": {
      "text/plain": [
       "complex"
      ]
     },
     "execution_count": 66,
     "metadata": {},
     "output_type": "execute_result"
    }
   ],
   "source": [
    "type(O1)"
   ]
  },
  {
   "cell_type": "code",
   "execution_count": null,
   "metadata": {
    "colab": {
     "base_uri": "https://localhost:8080/"
    },
    "id": "ibDaXeqj2O4E",
    "outputId": "83fa0629-425b-497c-90aa-a8ebaf13d03f"
   },
   "outputs": [
    {
     "name": "stdout",
     "output_type": "stream",
     "text": [
      "input a number lesser than 34---56\n"
     ]
    }
   ],
   "source": [
    "#loop\n",
    "a=int(input(\"input a number lesser than 34---\"))\n",
    "if a<34:\n",
    "  pass"
   ]
  },
  {
   "cell_type": "code",
   "execution_count": null,
   "metadata": {
    "colab": {
     "base_uri": "https://localhost:8080/"
    },
    "id": "v9DoG8AH4cq3",
    "outputId": "54e3f741-750b-45bd-fa6a-8f514b632aa7"
   },
   "outputs": [
    {
     "name": "stdout",
     "output_type": "stream",
     "text": [
      "input a number lesser than 34---101\n",
      "user input is not lesser than 34\n"
     ]
    }
   ],
   "source": [
    "a=int(input(\"input a number lesser than 34---\"))\n",
    "if a<34:\n",
    "  print(\"data input is lesser then 34 and i am fine with it\")\n",
    "elif a<100:\n",
    "  print(\"my data is lesser than 100\")\n",
    "else:\n",
    "  print(\"user input is not lesser than 34\")"
   ]
  },
  {
   "cell_type": "code",
   "execution_count": null,
   "metadata": {
    "colab": {
     "base_uri": "https://localhost:8080/"
    },
    "id": "s8pDXPMU4s3D",
    "outputId": "c014b1c2-4da4-423d-cf9c-233a683cdd21"
   },
   "outputs": [
    {
     "name": "stdout",
     "output_type": "stream",
     "text": [
      "Enter your salary: 10056\n",
      "your salary is good\n",
      "I will go with a car toyota\n"
     ]
    }
   ],
   "source": [
    "salary =int(input(\"Enter your salary: \"))\n",
    "if salary>1000:\n",
    "  print(\"your salary is good\")\n",
    "  if salary<5000:\n",
    "    print(\"I will go with a car nano\")\n",
    "    if True:\n",
    "      print(\"False code\")\n",
    "  elif salary<10000:\n",
    "    print(\"I will go with a car maruti\")\n",
    "  elif salary<50000:\n",
    "    print(\"I will go with a car toyota\")\n",
    "elif salary>500:\n",
    "  print(\"I will go for a bike\")\n",
    "elif salary>100:\n",
    "  print(\"I will not buy anything\")\n",
    "else:\n",
    "  print(\"I will go for saving\")"
   ]
  },
  {
   "cell_type": "code",
   "execution_count": null,
   "metadata": {
    "id": "yddgxjPX8C-T"
   },
   "outputs": [],
   "source": []
  }
 ],
 "metadata": {
  "colab": {
   "provenance": []
  },
  "kernelspec": {
   "display_name": "Python 3 (ipykernel)",
   "language": "python",
   "name": "python3"
  },
  "language_info": {
   "codemirror_mode": {
    "name": "ipython",
    "version": 3
   },
   "file_extension": ".py",
   "mimetype": "text/x-python",
   "name": "python",
   "nbconvert_exporter": "python",
   "pygments_lexer": "ipython3",
   "version": "3.12.8"
  }
 },
 "nbformat": 4,
 "nbformat_minor": 4
}
