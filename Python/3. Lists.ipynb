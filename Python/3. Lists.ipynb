{
 "cells": [
  {
   "cell_type": "markdown",
   "id": "85c89a5c-f733-4b33-bbc5-7877121fbf5d",
   "metadata": {},
   "source": [
    "Lists\n",
    "- Can repeat elements or allows duplicates\n",
    "- Can change the elements that is lists are mutable "
   ]
  },
  {
   "cell_type": "code",
   "execution_count": 1,
   "id": "87adfbef-ab61-4980-a302-edd83b10263f",
   "metadata": {},
   "outputs": [],
   "source": [
    "l=[\"vishnu\",\"pranjali\",18,(4+6j),True,345.78]"
   ]
  },
  {
   "cell_type": "code",
   "execution_count": 2,
   "id": "17382836-4f3d-4f7f-ae46-c97ab4454ad1",
   "metadata": {},
   "outputs": [
    {
     "data": {
      "text/plain": [
       "'vishnu'"
      ]
     },
     "execution_count": 2,
     "metadata": {},
     "output_type": "execute_result"
    }
   ],
   "source": [
    "l[0]"
   ]
  },
  {
   "cell_type": "code",
   "execution_count": 3,
   "id": "020316b3-fb74-4e67-9eca-200e51f7874d",
   "metadata": {},
   "outputs": [
    {
     "data": {
      "text/plain": [
       "True"
      ]
     },
     "execution_count": 3,
     "metadata": {},
     "output_type": "execute_result"
    }
   ],
   "source": [
    "l[4]"
   ]
  },
  {
   "cell_type": "code",
   "execution_count": 4,
   "id": "9cd09364-5a5e-41e8-99f4-8bc0a688de40",
   "metadata": {},
   "outputs": [
    {
     "data": {
      "text/plain": [
       "'pranjali'"
      ]
     },
     "execution_count": 4,
     "metadata": {},
     "output_type": "execute_result"
    }
   ],
   "source": [
    "l[-5]"
   ]
  },
  {
   "cell_type": "code",
   "execution_count": 5,
   "id": "749b1f4c-2595-465a-b2d0-d36755dd164a",
   "metadata": {},
   "outputs": [
    {
     "data": {
      "text/plain": [
       "['vishnu', 'pranjali', 18, (4+6j), True, 345.78]"
      ]
     },
     "execution_count": 5,
     "metadata": {},
     "output_type": "execute_result"
    }
   ],
   "source": [
    "l"
   ]
  },
  {
   "cell_type": "code",
   "execution_count": 6,
   "id": "985fbc59-1d7e-40c1-a46d-0bf1945a4f0b",
   "metadata": {},
   "outputs": [
    {
     "data": {
      "text/plain": [
       "['vishnu', 'pranjali', 18, (4+6j)]"
      ]
     },
     "execution_count": 6,
     "metadata": {},
     "output_type": "execute_result"
    }
   ],
   "source": [
    "l[0:4]"
   ]
  },
  {
   "cell_type": "code",
   "execution_count": 7,
   "id": "6b4d59d1-bf0d-4827-b1f7-26595cb4506d",
   "metadata": {},
   "outputs": [
    {
     "data": {
      "text/plain": [
       "[345.78, True, (4+6j), 18, 'pranjali', 'vishnu']"
      ]
     },
     "execution_count": 7,
     "metadata": {},
     "output_type": "execute_result"
    }
   ],
   "source": [
    "l[::-1]"
   ]
  },
  {
   "cell_type": "code",
   "execution_count": 8,
   "id": "66cd7ff2-f9ab-4074-b83c-ebfd88f8b17f",
   "metadata": {},
   "outputs": [
    {
     "data": {
      "text/plain": [
       "[345.78]"
      ]
     },
     "execution_count": 8,
     "metadata": {},
     "output_type": "execute_result"
    }
   ],
   "source": [
    "l[-1:6]"
   ]
  },
  {
   "cell_type": "code",
   "execution_count": 9,
   "id": "ab47a1b9-747a-4b67-9f59-da273cd2367f",
   "metadata": {},
   "outputs": [
    {
     "data": {
      "text/plain": [
       "list"
      ]
     },
     "execution_count": 9,
     "metadata": {},
     "output_type": "execute_result"
    }
   ],
   "source": [
    "type(l)"
   ]
  },
  {
   "cell_type": "code",
   "execution_count": 10,
   "id": "6d5b8fc8-9900-4f02-973e-14840ff733a0",
   "metadata": {},
   "outputs": [
    {
     "data": {
      "text/plain": [
       "str"
      ]
     },
     "execution_count": 10,
     "metadata": {},
     "output_type": "execute_result"
    }
   ],
   "source": [
    "type(l[0])"
   ]
  },
  {
   "cell_type": "code",
   "execution_count": 11,
   "id": "a7d6b9f9-0a36-484e-9e5b-33ce33779a67",
   "metadata": {},
   "outputs": [
    {
     "data": {
      "text/plain": [
       "bool"
      ]
     },
     "execution_count": 11,
     "metadata": {},
     "output_type": "execute_result"
    }
   ],
   "source": [
    "type(l[4])"
   ]
  },
  {
   "cell_type": "code",
   "execution_count": 12,
   "id": "319c9c6a-d5c0-41c3-ad55-b8d64597b567",
   "metadata": {},
   "outputs": [
    {
     "data": {
      "text/plain": [
       "'i'"
      ]
     },
     "execution_count": 12,
     "metadata": {},
     "output_type": "execute_result"
    }
   ],
   "source": [
    "l[0][1]"
   ]
  },
  {
   "cell_type": "code",
   "execution_count": 13,
   "id": "a47cebe7-abf6-4933-8c21-aa0e60b5de72",
   "metadata": {},
   "outputs": [
    {
     "data": {
      "text/plain": [
       "(4+6j)"
      ]
     },
     "execution_count": 13,
     "metadata": {},
     "output_type": "execute_result"
    }
   ],
   "source": [
    "l[3]"
   ]
  },
  {
   "cell_type": "code",
   "execution_count": 14,
   "id": "c719e59e-666e-4dc9-9263-19b8f2a25e0d",
   "metadata": {},
   "outputs": [
    {
     "data": {
      "text/plain": [
       "4.0"
      ]
     },
     "execution_count": 14,
     "metadata": {},
     "output_type": "execute_result"
    }
   ],
   "source": [
    "l[3].real"
   ]
  },
  {
   "cell_type": "code",
   "execution_count": 15,
   "id": "e26f6135-f2a6-472b-8115-f63505b59f88",
   "metadata": {},
   "outputs": [
    {
     "data": {
      "text/plain": [
       "6.0"
      ]
     },
     "execution_count": 15,
     "metadata": {},
     "output_type": "execute_result"
    }
   ],
   "source": [
    "l[3].imag"
   ]
  },
  {
   "cell_type": "code",
   "execution_count": 16,
   "id": "ec87cec9-f92e-4d2a-aae1-81c866ed955e",
   "metadata": {},
   "outputs": [],
   "source": [
    "l1=[\"vishnu\",\"pranjali\",4357]\n",
    "l2=[\"xyz\",\"pqr\",546.34]"
   ]
  },
  {
   "cell_type": "code",
   "execution_count": 17,
   "id": "7c474289-2627-4a00-a0be-3d2f760ed35d",
   "metadata": {},
   "outputs": [
    {
     "data": {
      "text/plain": [
       "['vishnu', 'pranjali', 4357, 'xyz', 'pqr', 546.34]"
      ]
     },
     "execution_count": 17,
     "metadata": {},
     "output_type": "execute_result"
    }
   ],
   "source": [
    "l1+l2"
   ]
  },
  {
   "cell_type": "code",
   "execution_count": 18,
   "id": "23b6ca1b-433d-4010-be9e-6b10ec2ab679",
   "metadata": {},
   "outputs": [
    {
     "data": {
      "text/plain": [
       "['vishnu', 'pranjali', 4357, 'vishnu']"
      ]
     },
     "execution_count": 18,
     "metadata": {},
     "output_type": "execute_result"
    }
   ],
   "source": [
    "l1+[\"vishnu\"]"
   ]
  },
  {
   "cell_type": "code",
   "execution_count": 19,
   "id": "31468110-28bb-4b29-bda8-8b79938df679",
   "metadata": {},
   "outputs": [
    {
     "data": {
      "text/plain": [
       "['vishnu',\n",
       " 'pranjali',\n",
       " 4357,\n",
       " 'vishnu',\n",
       " 'pranjali',\n",
       " 4357,\n",
       " 'vishnu',\n",
       " 'pranjali',\n",
       " 4357,\n",
       " 'vishnu',\n",
       " 'pranjali',\n",
       " 4357]"
      ]
     },
     "execution_count": 19,
     "metadata": {},
     "output_type": "execute_result"
    }
   ],
   "source": [
    "l1*4"
   ]
  },
  {
   "cell_type": "code",
   "execution_count": 20,
   "id": "2d01aef6-e19f-4621-a7be-42aed1466a86",
   "metadata": {},
   "outputs": [
    {
     "data": {
      "text/plain": [
       "['vishnu', 'pranjali', 4357]"
      ]
     },
     "execution_count": 20,
     "metadata": {},
     "output_type": "execute_result"
    }
   ],
   "source": [
    "l1"
   ]
  },
  {
   "cell_type": "code",
   "execution_count": 23,
   "id": "d89f89f9-4e76-4e89-8070-6863e45ef3be",
   "metadata": {},
   "outputs": [],
   "source": [
    "l1[0]=\"yourname\""
   ]
  },
  {
   "cell_type": "code",
   "execution_count": 24,
   "id": "1c8ade4f-51ed-41b1-827b-e7855ca618c7",
   "metadata": {},
   "outputs": [
    {
     "data": {
      "text/plain": [
       "['yourname', 'pranjali', 4357]"
      ]
     },
     "execution_count": 24,
     "metadata": {},
     "output_type": "execute_result"
    }
   ],
   "source": [
    "l1"
   ]
  },
  {
   "cell_type": "code",
   "execution_count": 25,
   "id": "04294b8a-f592-49c1-b8ac-69b41501c3a9",
   "metadata": {},
   "outputs": [],
   "source": [
    "l1[0]=928498989"
   ]
  },
  {
   "cell_type": "code",
   "execution_count": 26,
   "id": "ecc923b4-0ab6-494e-97c7-17448accb017",
   "metadata": {},
   "outputs": [
    {
     "data": {
      "text/plain": [
       "[928498989, 'pranjali', 4357]"
      ]
     },
     "execution_count": 26,
     "metadata": {},
     "output_type": "execute_result"
    }
   ],
   "source": [
    "l1"
   ]
  },
  {
   "cell_type": "code",
   "execution_count": 27,
   "id": "f0035833-6a49-4c1a-9a21-ab1ed585ba51",
   "metadata": {},
   "outputs": [
    {
     "data": {
      "text/plain": [
       "3"
      ]
     },
     "execution_count": 27,
     "metadata": {},
     "output_type": "execute_result"
    }
   ],
   "source": [
    "len(l1)"
   ]
  },
  {
   "cell_type": "code",
   "execution_count": 28,
   "id": "9c3e3a32-2038-414e-9d7f-0e80cc60c466",
   "metadata": {},
   "outputs": [
    {
     "data": {
      "text/plain": [
       "False"
      ]
     },
     "execution_count": 28,
     "metadata": {},
     "output_type": "execute_result"
    }
   ],
   "source": [
    "\"kumar\" in l1"
   ]
  },
  {
   "cell_type": "code",
   "execution_count": 29,
   "id": "fa2019a2-8b8b-48cb-ba72-ee95a28f1724",
   "metadata": {},
   "outputs": [
    {
     "data": {
      "text/plain": [
       "True"
      ]
     },
     "execution_count": 29,
     "metadata": {},
     "output_type": "execute_result"
    }
   ],
   "source": [
    "\"pranjali\" in l1"
   ]
  },
  {
   "cell_type": "code",
   "execution_count": 30,
   "id": "2c226eda-a994-4981-9d0e-5738435f6a88",
   "metadata": {},
   "outputs": [],
   "source": [
    "l=['okay','vishnu',78,45,789.5,True,(5+8j)]"
   ]
  },
  {
   "cell_type": "code",
   "execution_count": 38,
   "id": "9c00a68a-6d2b-49e2-bc4c-c6c161f056b4",
   "metadata": {},
   "outputs": [
    {
     "data": {
      "text/plain": [
       "[]"
      ]
     },
     "execution_count": 38,
     "metadata": {},
     "output_type": "execute_result"
    }
   ],
   "source": [
    "l[-1:6:-1]"
   ]
  },
  {
   "cell_type": "code",
   "execution_count": 39,
   "id": "3d892fca-a8d3-4747-99d1-d6f43c943981",
   "metadata": {},
   "outputs": [
    {
     "data": {
      "text/plain": [
       "546.34"
      ]
     },
     "execution_count": 39,
     "metadata": {},
     "output_type": "execute_result"
    }
   ],
   "source": [
    "l2.pop(2)"
   ]
  },
  {
   "cell_type": "code",
   "execution_count": 40,
   "id": "c4d45e42-607f-4f6f-8ea5-1c7a1c4abdee",
   "metadata": {},
   "outputs": [
    {
     "data": {
      "text/plain": [
       "['xyz', 'pqr']"
      ]
     },
     "execution_count": 40,
     "metadata": {},
     "output_type": "execute_result"
    }
   ],
   "source": [
    "l2"
   ]
  },
  {
   "cell_type": "code",
   "execution_count": 41,
   "id": "ea12a1f5-4a9b-4649-9725-5b858520dd03",
   "metadata": {},
   "outputs": [],
   "source": [
    "l2.append(3456345)"
   ]
  },
  {
   "cell_type": "code",
   "execution_count": 42,
   "id": "0d24fc16-a3ed-4a61-a441-d51c21d04c70",
   "metadata": {},
   "outputs": [
    {
     "data": {
      "text/plain": [
       "['xyz', 'pqr', 3456345]"
      ]
     },
     "execution_count": 42,
     "metadata": {},
     "output_type": "execute_result"
    }
   ],
   "source": [
    "l2"
   ]
  },
  {
   "cell_type": "code",
   "execution_count": 43,
   "id": "56911d1f-5c43-4071-94d4-e473dc2540de",
   "metadata": {},
   "outputs": [],
   "source": [
    "l2.insert(1,\"ghe\")"
   ]
  },
  {
   "cell_type": "code",
   "execution_count": 44,
   "id": "dde8bb07-2395-4689-952f-50c578265333",
   "metadata": {},
   "outputs": [
    {
     "data": {
      "text/plain": [
       "['xyz', 'ghe', 'pqr', 3456345]"
      ]
     },
     "execution_count": 44,
     "metadata": {},
     "output_type": "execute_result"
    }
   ],
   "source": [
    "l2"
   ]
  },
  {
   "cell_type": "code",
   "execution_count": 45,
   "id": "bf6b33d6-58a4-4481-8c9a-8caef08d5af9",
   "metadata": {},
   "outputs": [],
   "source": [
    "l2.insert(3,[3,4,5,6,7])"
   ]
  },
  {
   "cell_type": "code",
   "execution_count": 46,
   "id": "c7d50584-92bf-4983-b8c8-43298ab6d0d7",
   "metadata": {},
   "outputs": [
    {
     "data": {
      "text/plain": [
       "['xyz', 'ghe', 'pqr', [3, 4, 5, 6, 7], 3456345]"
      ]
     },
     "execution_count": 46,
     "metadata": {},
     "output_type": "execute_result"
    }
   ],
   "source": [
    "l2"
   ]
  },
  {
   "cell_type": "code",
   "execution_count": 47,
   "id": "f551c226-e9fa-460e-ada7-aaf4e160e373",
   "metadata": {},
   "outputs": [
    {
     "data": {
      "text/plain": [
       "[3456345, [3, 4, 5, 6, 7], 'pqr', 'ghe', 'xyz']"
      ]
     },
     "execution_count": 47,
     "metadata": {},
     "output_type": "execute_result"
    }
   ],
   "source": [
    "l2[::-1]"
   ]
  },
  {
   "cell_type": "code",
   "execution_count": 48,
   "id": "69ada846-f0d1-475c-940e-77e084aaf7a8",
   "metadata": {},
   "outputs": [
    {
     "data": {
      "text/plain": [
       "5"
      ]
     },
     "execution_count": 48,
     "metadata": {},
     "output_type": "execute_result"
    }
   ],
   "source": [
    "l2[3][2]"
   ]
  },
  {
   "cell_type": "code",
   "execution_count": 49,
   "id": "eb6ea79f-4736-4dc8-9b0b-569e9cad2711",
   "metadata": {},
   "outputs": [],
   "source": [
    "l2=l2[::-1]"
   ]
  },
  {
   "cell_type": "code",
   "execution_count": 50,
   "id": "15dbf7ea-ae4c-4956-bcca-e52fff8fc441",
   "metadata": {},
   "outputs": [
    {
     "data": {
      "text/plain": [
       "[3456345, [3, 4, 5, 6, 7], 'pqr', 'ghe', 'xyz']"
      ]
     },
     "execution_count": 50,
     "metadata": {},
     "output_type": "execute_result"
    }
   ],
   "source": [
    "l2"
   ]
  },
  {
   "cell_type": "code",
   "execution_count": 51,
   "id": "68897242-af3c-42a7-8f18-53a9464ee94d",
   "metadata": {},
   "outputs": [
    {
     "data": {
      "text/plain": [
       "5"
      ]
     },
     "execution_count": 51,
     "metadata": {},
     "output_type": "execute_result"
    }
   ],
   "source": [
    "l2[1][2]"
   ]
  },
  {
   "cell_type": "code",
   "execution_count": 52,
   "id": "6d8dc43c-f662-4edd-92be-5ccdfaa58738",
   "metadata": {},
   "outputs": [
    {
     "data": {
      "text/plain": [
       "1"
      ]
     },
     "execution_count": 52,
     "metadata": {},
     "output_type": "execute_result"
    }
   ],
   "source": [
    "l2.count('xyz')"
   ]
  },
  {
   "cell_type": "code",
   "execution_count": 54,
   "id": "d3335834-76fe-49c4-9bb1-30647232d4ba",
   "metadata": {},
   "outputs": [
    {
     "data": {
      "text/plain": [
       "0"
      ]
     },
     "execution_count": 54,
     "metadata": {},
     "output_type": "execute_result"
    }
   ],
   "source": [
    "l1.count('najkvnjnv')"
   ]
  },
  {
   "cell_type": "code",
   "execution_count": 55,
   "id": "5c6330a9-2e58-4aa6-9978-78b5018de974",
   "metadata": {},
   "outputs": [],
   "source": [
    "l2.extend([2,54,656,\"usdu\"])"
   ]
  },
  {
   "cell_type": "code",
   "execution_count": 56,
   "id": "98c3bcb6-2a5f-4abe-ba18-9ea4e61d000f",
   "metadata": {},
   "outputs": [
    {
     "data": {
      "text/plain": [
       "[3456345, [3, 4, 5, 6, 7], 'pqr', 'ghe', 'xyz', 2, 54, 656, 'usdu']"
      ]
     },
     "execution_count": 56,
     "metadata": {},
     "output_type": "execute_result"
    }
   ],
   "source": [
    "l2"
   ]
  },
  {
   "cell_type": "markdown",
   "id": "186c21e3-9804-4c38-a1c6-8d06c9922e5c",
   "metadata": {},
   "source": [
    "- extend: can only add elements that are iterable, eg: a list of elements\n",
    "- append: can add a single element too"
   ]
  },
  {
   "cell_type": "code",
   "execution_count": 57,
   "id": "b0f714a6-bb3b-4b55-8b27-d9c2493144c9",
   "metadata": {},
   "outputs": [
    {
     "data": {
      "text/plain": [
       "[345.6]"
      ]
     },
     "execution_count": 57,
     "metadata": {},
     "output_type": "execute_result"
    }
   ],
   "source": [
    "L=['vishnu','pranjali',7654,4+6j,True,345.6]\n",
    "L[-1:6]"
   ]
  },
  {
   "cell_type": "code",
   "execution_count": null,
   "id": "8c9d1300-628e-4064-964f-d84da2676d82",
   "metadata": {},
   "outputs": [],
   "source": []
  }
 ],
 "metadata": {
  "kernelspec": {
   "display_name": "Python 3 (ipykernel)",
   "language": "python",
   "name": "python3"
  },
  "language_info": {
   "codemirror_mode": {
    "name": "ipython",
    "version": 3
   },
   "file_extension": ".py",
   "mimetype": "text/x-python",
   "name": "python",
   "nbconvert_exporter": "python",
   "pygments_lexer": "ipython3",
   "version": "3.12.8"
  }
 },
 "nbformat": 4,
 "nbformat_minor": 5
}
